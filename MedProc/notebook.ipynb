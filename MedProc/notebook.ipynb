{
 "cells": [
  {
   "attachments": {},
   "cell_type": "markdown",
   "metadata": {},
   "source": [
    "## Requirements:\n",
    "\n",
    "- Download the [MedProc Test Data](https://temu.bsc.es/medprocner/downloads/) into the folder `medprocner_train_test`\n",
    "- Aquier an OpenAI API key"
   ]
  },
  {
   "attachments": {},
   "cell_type": "markdown",
   "metadata": {},
   "source": [
    "## Subtask 1"
   ]
  },
  {
   "cell_type": "code",
   "execution_count": null,
   "metadata": {},
   "outputs": [],
   "source": [
    "%pip install openai"
   ]
  },
  {
   "cell_type": "code",
   "execution_count": null,
   "metadata": {},
   "outputs": [],
   "source": [
    "import os\n",
    "import csv\n",
    "import time\n",
    "import openai\n",
    "import json\n",
    "\n",
    "openai_key = input()\n",
    "openai.api_key = openai_key\n",
    "model_name = \"gpt-3.5-turbo\"\n",
    "#model_name = \"gpt-4\"\n",
    "\n",
    "def extract_procedures(text, examples):\n",
    "    # Convert the examples into a conversation format\n",
    "    conversation = [{'role': 'system', 'content': \"\"\"Eres un asistente útil que extrae procedimientos médicos de textos médicos en español. \n",
    "    Un procedimiento médico se refiere a cualquier acción diagnóstica, terapéutica, médica o quirúrgica realizada en un paciente. \n",
    "    Tu respuesta debe ser una lista de procedimientos en formato JSON válido.\"\"\"}]\n",
    "    for input, output in examples:\n",
    "        conversation.append({'role': 'user', 'content': f'{input}'})\n",
    "        conversation.append({'role': 'assistant', 'content': json.dumps(output)})\n",
    "    conversation.append({'role': 'user', 'content': f\"\"\"Extraiga todos los procedimientos médicos \n",
    "    del texto delimitado por tres comillas invertidas. Devuelve una lista vacía si no se menciona ninguno.\n",
    "    ```{text}```\"\"\"})\n",
    "    \n",
    "    response = openai.ChatCompletion.create(\n",
    "        model=model_name,\n",
    "        messages=conversation\n",
    "    )\n",
    "    print(\"prompt:\")\n",
    "    print(conversation)\n",
    "    print(\"response:\")\n",
    "    print(response)\n",
    "\n",
    "    procedures = json.loads(response['choices'][0]['message']['content'])\n",
    "    print(procedures)\n",
    "    return procedures\n",
    "\n",
    "# Call the function with a text and examples from the training set\n",
    "examples = [(\"\"\"\n",
    "Extraiga todos los procedimientos médicos del texto delimitado por tres comillas invertidas. Devuelve una lista vacía si no se menciona ninguno.:\n",
    "```Paciente varón de 35 años con tumoración en polo superior de teste derecho hallada de manera casual durante una autoexploración, motivo por el cual acude a consulta de urología donde se realiza exploración física, apreciando masa de 1cm aproximado de diámetro dependiente de epidídimo, y ecografía testicular, que se informa como lesión nodular sólida en cabeza de epidídimo derecho. Se realiza RMN. Confirmando masa nodular, siendo el tumor adenomatoide de epidídimo la primera posibilidad diagnóstica.\n",
    "\n",
    "Se decide, en los dos casos, resección quirúrgica de tumoración nodular en cola epidídimo derecho, sin realización de orquiectomía posterior.\n",
    "En ambos casos se realizó examen anátomopatológico de la pieza quirúrgica. Hallazgos histológicos macroscópicos: formación nodular de 1,5 cms (caso1) y 1,2 cms (caso 2) de consistencia firme, coloración blanquecina y bien delimitada. Microscópicamente se observa proliferación tumoral constituida por estructuras tubulares en las que la celularidad muestra núcleos redondeados y elongados sin atipia citológica y que ocasionalmente muestra citoplasmas vacuolados, todo ello compatible con tumor adenomatoide de epidídimo.\n",
    "```\"\"\", [\"examen anátomopatológico\", \"resección quirúrgica de tumoración nodular en cola epidídimo derecho\", \"orquiectomía\", \"exploración física\", \"ecografía testicular\", \"RMN\", \"Microscópicamente\", \"autoexploración\", \"histológicos macroscópicos\"]), \n",
    "(\"\"\"\n",
    "Extraiga todos los procedimientos médicos del texto delimitado por tres comillas invertidas. Devuelve una lista vacía si no se menciona ninguno.:\n",
    "```Dos recién nacidos, varón y hembra de una misma madre y fallecidos a los 10 y 45 minutos de vida respectivamente a los que se les realizó examen necrópsico. El primero de los cadáveres, correspondiente a la hembra, fue remitido con el juicio clínico de insuficiencia respiratoria grave con sospecha de Síndrome de Potter con la constatación de oligoamnios severo; nació mediante cesárea urgente por presentación de nalgas y el test de Apgar fue 1/3/7; minutos más tarde falleció. El examen externo permitió observar una tonalidad subcianótica, facies triangular con hendiduras parpebrales mongoloides, micrognatia, raiz nasal ancha y occipucio prominente. El abdomen, globuloso, duro y ligeramente abollonado permitía la palpación de dos grandes masas ocupando ambas fosas renales y hemiabdomenes. A la apertura de cavidades destacaba la presencia de dos grandes masas renales de 10 x 8 x 5,5 cm y 12 x 8 x 6 cm con pesos de 190 y 235 gr respectivamente. Si bien se podía discernir la silueta renal, la superficie, abollonada, presentaba numerosas formaciones quísticas de contenido seroso; al corte dichos quistes mostraban un tamaño heterogéneo siendo mayores los situados a nivel cortical, dando al riñón un aspecto de esponja. Los pulmones derecho e izquierdo pesaban 17 y 15 gr (peso habitual del conjunto de 49 gr) mostrando una tonalidad rojiza uniforme; ambos se encontraban comprimidos como consecuencia de la elevación diafragmática condicionada por el gran tamaño de los riñones. El resto de los órganos no mostraba alteraciones macroscópicas significativas salvo las alteraciones posicionales derivadas de la compresión renal. En el segundo de los cadáveres, el correspondiente al varón, se observaron cambios morfológicos similares si bien el tamaño exhibido por los riñones era aún mayor, con pesos de 300 y 310 gr. El resto de las vísceras abdominales estaban comprimidas contra el diafragma. En ambos casos se realizó un estudio histológico detallado, centrado especialmente en los riñones en los que se demostraron múltiples quistes de distintos tamaños con morfología sacular a nivel cortical. Dichos quistes ocupaban la mayor parte del parénquima corticomedular si bien las zonas conservadas no mostraban alteraciones significativas salvo inmadurez focal. Dichos quistes estaban tapizados por un epitelio simple que variaba desde plano o cúbico. Los quistes medulares, de menor tamaño y más redondeados estaban tapizados por un epitelio de predominio cúbico. Después de las renales, las alteraciones más llamativas se encontraban en el hígado donde se observaron proliferación y dilatación, incluso quística, de los ductos biliares a nivel de los espacios porta. Con tales hallazgos se emitió en ambos casos el diagnóstico de enfermedad poliquística renal autosómica recesiva infantil.\n",
    "```\"\"\", \n",
    "[\n",
    "\"examen necrópsico\",\n",
    "\"cesárea urgente\",\n",
    "\"estudio histológico\",\n",
    "\"examen externo\",\n",
    "\"palpación\",\n",
    "\"apertura de cavidades\"]), (\"\"\"\n",
    "Extraiga todos los procedimientos médicos del texto delimitado por tres comillas invertidas. Devuelve una lista vacía si no se menciona ninguno.:\n",
    "```Paciente de 64 años, alérgico a penicilina y con recambio valvular aórtico por endocarditis que consultó por aparición de masa peneana de crecimiento progresivo en las últimas semanas. A la exploración física destacaba una formación excrecente y abigarrada en glande, que deformaba meato, con áreas ulceradas cubiertas de fibrina. Se palpaban adenopatías fijas y duras en ambas regiones inguinales. La radiografía de tórax y el TAC abdomino-pélvico confirmaron la presencia de adenopatías pulmonares e inguinales de gran tamaño. Con el diagnóstico de neoplasia de pene, se practicó penectomía parcial con margen de seguridad. La anatomía patológica demostró que se trataba de un sarcoma pleomórfico de pene con diferenciación osteosarcomatosa y márgenes libres de afectación. Se decidió tratamiento con dos líneas de quimioterapia consistente en adriamicina e ifosfamida pero no hubo respuesta. Ingresó de nuevo con recidiva local sangrante de gran tamaño y crecimiento rápido que provocaba obstrucción de meato con insuficiencia renal aguda. Se colocó sonda de cistostomía y se instauró tratamiento con sueroterapia, mejorando la función renal, pero con empeoramiento progresivo del estado general hasta que falleció a los 6 meses del diagnóstico.\n",
    "```\"\"\", [\n",
    "\"recambio valvular aórtico\", \n",
    "\"exploración física\", \n",
    "\"Se palpaban adenopatías fijas y duras en ambas regiones inguinales\", \n",
    "\"radiografía de tórax\", \n",
    "\"TAC abdomino-pélvico\", \n",
    "\"penectomía parcial con margen de seguridad\", \n",
    "\"anatomía patológica\", \n",
    "\"quimioterapia\",\n",
    "\"colocó sonda de cistostomía\",\n",
    "\"sueroterapia\"])] \n",
    "\n",
    "def process_files(directory):\n",
    "    index = 0\n",
    "    offset = 0\n",
    "    for filename in os.listdir(directory):\n",
    "        print(filename)\n",
    "        index = index +1\n",
    "        if filename.endswith('.txt') and index >offset:\n",
    "            print(index)\n",
    "            with open(os.path.join(directory, filename), 'r', encoding='utf-8') as file:\n",
    "                text = file.read()\n",
    "                try:\n",
    "                    procedures = extract_procedures(text, examples)\n",
    "                except Exception as err:\n",
    "                    print(err)\n",
    "                    print(\"error while processing request, retry\")\n",
    "                    time.sleep(5)\n",
    "                    procedures = extract_procedures(text, examples)\n",
    "                with open(f'subtask1_result.tsv', 'a', newline='', encoding='utf-8') as tsvfile:\n",
    "                    writer = csv.writer(tsvfile, delimiter='\\t')\n",
    "                    for procedure in procedures:\n",
    "                        start_span = text.find(procedure)\n",
    "                        end_span = start_span + len(procedure)\n",
    "                        if start_span>=0 and end_span >= 0:\n",
    "                            writer.writerow([filename.replace('.txt', ''), 'PROCEDIMIENTO', start_span, end_span, procedure])\n",
    "\n",
    "# Call the function with the directory containing the text files\n",
    "process_files('./medprocner_train_test/medprocner_train_test/medprocner_test/txt')\n"
   ]
  },
  {
   "attachments": {},
   "cell_type": "markdown",
   "metadata": {},
   "source": [
    "## Subtask 2"
   ]
  },
  {
   "attachments": {},
   "cell_type": "markdown",
   "metadata": {},
   "source": [
    "##### Install Dependencies"
   ]
  },
  {
   "cell_type": "code",
   "execution_count": null,
   "metadata": {},
   "outputs": [],
   "source": [
    "%pip install pandas fuzzywuzzy python-Levenshtein nltk scipy\n",
    "import nltk\n",
    "nltk.download('punkt')"
   ]
  },
  {
   "attachments": {},
   "cell_type": "markdown",
   "metadata": {},
   "source": [
    "#### Define and Initialize Gazeteer Lookup"
   ]
  },
  {
   "cell_type": "code",
   "execution_count": null,
   "metadata": {},
   "outputs": [],
   "source": [
    "import csv\n",
    "from rapidfuzz import fuzz, process\n",
    "from nltk.stem.snowball import SnowballStemmer\n",
    "\n",
    "\n",
    "stemmer = SnowballStemmer(\"spanish\") \n",
    "\n",
    "\n",
    "def initialize_gazetteer(filepath):\n",
    "    with open(filepath, 'r', newline='', encoding='utf-8') as file:\n",
    "        reader = csv.reader(file, delimiter='\\t')\n",
    "        next(reader)  # Skip the header\n",
    "        rows = [row for row in reader if row[2] == 'procedure']  # Filter only procedures\n",
    "        terms = [' '.join(stemmer.stem(word) for word in row[1].split()) for row in rows]\n",
    "        codes = [row[0] for row in rows]\n",
    "    return terms, codes\n",
    "\n",
    "\n",
    "def lookup(query, terms, codes, limit=1):\n",
    "    stemmed_query = ' '.join(stemmer.stem(word) for word in query.split())\n",
    "    result = process.extractOne(stemmed_query, terms, scorer=fuzz.ratio, score_cutoff=80)\n",
    "    codes_dict = []\n",
    "    if result:\n",
    "        print(result)\n",
    "        match, score, i = result\n",
    "        if match in terms:\n",
    "            index = terms.index(match)\n",
    "            code = codes[index]\n",
    "            codes_dict.append((match, code))\n",
    "    return codes_dict\n",
    "\n",
    "# Initialize the gazetteer\n",
    "terms, codes = initialize_gazetteer('./medprocner_train_test/medprocner_train_test/medprocner_gazetteer/gazzeteer_medprocner_v1.tsv')\n",
    "\n",
    "# Perform a test lookup\n",
    "print(lookup('ecografía escrotal', terms, codes))\n",
    "\n",
    "\n"
   ]
  },
  {
   "attachments": {},
   "cell_type": "markdown",
   "metadata": {},
   "source": [
    "#### Define Processing Function for Test Data"
   ]
  },
  {
   "cell_type": "code",
   "execution_count": 66,
   "metadata": {},
   "outputs": [],
   "source": [
    "import csv\n",
    "\n",
    "def process_entries(input_filepath, terms, codes, output_filepath):\n",
    "    with open(input_filepath, 'r', newline='', encoding='utf-8') as infile, open(output_filepath, 'w', newline='', encoding='utf-8') as outfile:\n",
    "        reader = csv.reader(infile, delimiter='\\t')\n",
    "        writer = csv.writer(outfile, delimiter='\\t')\n",
    "\n",
    "        for row in reader:\n",
    "            # Parse the row\n",
    "            filename, label, start_span, end_span, text = row\n",
    "\n",
    "            # Lookup SNOMED CT codes\n",
    "            print(\"lookup:\"+text)\n",
    "            result_codes = lookup(text, terms, codes)\n",
    "            print(result_codes)\n",
    "            # Concatenate the codes with \"+\" if there are multiple codes\n",
    "            code_str = \"+\".join(str(code) for _, code in result_codes)\n",
    "\n",
    "            # Write the row to the output file\n",
    "            writer.writerow([filename, label, start_span, end_span, text, code_str])\n",
    "\n"
   ]
  },
  {
   "attachments": {},
   "cell_type": "markdown",
   "metadata": {},
   "source": [
    "#### Run"
   ]
  },
  {
   "cell_type": "code",
   "execution_count": null,
   "metadata": {},
   "outputs": [],
   "source": [
    "process_entries(\"./subtask1_result.tsv\", terms, codes, \"./subtask2_result.tsv\")\n"
   ]
  },
  {
   "attachments": {},
   "cell_type": "markdown",
   "metadata": {},
   "source": [
    "## Subtask 3"
   ]
  },
  {
   "cell_type": "code",
   "execution_count": 71,
   "metadata": {},
   "outputs": [],
   "source": [
    "import csv\n",
    "from collections import defaultdict\n",
    "\n",
    "def create_indexed_file(input_file, output_file):\n",
    "    data = defaultdict(list)\n",
    "\n",
    "    # Read TSV file\n",
    "    with open(input_file, 'r', newline='', encoding='utf-8') as f:\n",
    "        reader = csv.reader(f, delimiter='\\t')\n",
    "        for row in reader:\n",
    "            if len(row) == 6:  # To avoid empty or incomplete lines\n",
    "                filename, _, _, _, _, code = row\n",
    "                if code:  # Check if code is not empty\n",
    "                    data[filename].append(code)\n",
    "\n",
    "    # Write to new TSV file\n",
    "    with open(output_file, 'w', newline='', encoding='utf-8') as f:\n",
    "        writer = csv.writer(f, delimiter='\\t')\n",
    "        writer.writerow(['filename', 'code'])  # Write header\n",
    "        for filename, codes in data.items():\n",
    "            writer.writerow([filename, '+'.join(codes)])\n",
    "\n",
    "# Run Index\n",
    "create_indexed_file('substask2_result.tsv', 'subtask3_result.tsv')"
   ]
  }
 ],
 "metadata": {
  "kernelspec": {
   "display_name": "Python 3",
   "language": "python",
   "name": "python3"
  },
  "language_info": {
   "codemirror_mode": {
    "name": "ipython",
    "version": 3
   },
   "file_extension": ".py",
   "mimetype": "text/x-python",
   "name": "python",
   "nbconvert_exporter": "python",
   "pygments_lexer": "ipython3",
   "version": "3.11.4"
  },
  "orig_nbformat": 4
 },
 "nbformat": 4,
 "nbformat_minor": 2
}
